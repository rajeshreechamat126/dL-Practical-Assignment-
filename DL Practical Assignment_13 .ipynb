{
 "cells": [
  {
   "cell_type": "markdown",
   "id": "77878f02",
   "metadata": {},
   "source": [
    "           Practical Assignment_13 Solutions"
   ]
  },
  {
   "cell_type": "markdown",
   "id": "7fc3b827",
   "metadata": {},
   "source": [
    "Objective: - Image caption generator\n",
    "\n",
    "An Image caption generator combines both computer vision and natural\n",
    "language processing techniques to analyze and identify the context of an\n",
    "image and describe them accordingly in natural human languages\n",
    "\n",
    "Dataset Link: -\n",
    "\n",
    "Link :- https://www.kaggle.com/adityajn105/flickr8k\n",
    "\n",
    "Task: - \n",
    "\n",
    "Create a Web Application using FASTAPI. Use the end user should be\n",
    "able to upload an image and get results with the captions.\n",
    "\n",
    "Assignment Submission: - \n",
    "\n",
    "Only submit the GitHub Link. Create a proper\n",
    "Readme documentation."
   ]
  }
 ],
 "metadata": {
  "kernelspec": {
   "display_name": "Python 3 (ipykernel)",
   "language": "python",
   "name": "python3"
  },
  "language_info": {
   "codemirror_mode": {
    "name": "ipython",
    "version": 3
   },
   "file_extension": ".py",
   "mimetype": "text/x-python",
   "name": "python",
   "nbconvert_exporter": "python",
   "pygments_lexer": "ipython3",
   "version": "3.9.13"
  }
 },
 "nbformat": 4,
 "nbformat_minor": 5
}
