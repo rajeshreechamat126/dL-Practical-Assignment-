{
 "cells": [
  {
   "cell_type": "markdown",
   "id": "d77cb0c9",
   "metadata": {},
   "source": [
    "         Practical Assignment_22"
   ]
  },
  {
   "cell_type": "markdown",
   "id": "e169171c",
   "metadata": {},
   "source": [
    "Objective: - Vehicle Counting and Classification\n",
    "\n",
    "You can use the computer vision techniques to classify vehicles on the road,\n",
    "HMV(heavy motor vehicle) or LMV( light motor vehicle) and also count the\n",
    "number of vehicles that travel through a road.\n",
    "\n",
    "The data can be stored to analyze the different vehicles that travel from a road.\n",
    "\n",
    "Dataset Link: -\n",
    "\n",
    "Use anyone of your choice.\n",
    "\n",
    "Task: - \n",
    "\n",
    "Create a Desktop App for videos where we can count and classify the vehicles.\n",
    "\n",
    "Deployment: - \n",
    "\n",
    "Any Free Platform(Try to look out for free options.)\n",
    "\n",
    "Assignment Submission: - \n",
    "\n",
    "Only submit the hosted app link. OR GitHub Link"
   ]
  },
  {
   "cell_type": "code",
   "execution_count": null,
   "id": "7998dba0",
   "metadata": {},
   "outputs": [],
   "source": []
  }
 ],
 "metadata": {
  "kernelspec": {
   "display_name": "Python 3 (ipykernel)",
   "language": "python",
   "name": "python3"
  },
  "language_info": {
   "codemirror_mode": {
    "name": "ipython",
    "version": 3
   },
   "file_extension": ".py",
   "mimetype": "text/x-python",
   "name": "python",
   "nbconvert_exporter": "python",
   "pygments_lexer": "ipython3",
   "version": "3.9.13"
  }
 },
 "nbformat": 4,
 "nbformat_minor": 5
}
