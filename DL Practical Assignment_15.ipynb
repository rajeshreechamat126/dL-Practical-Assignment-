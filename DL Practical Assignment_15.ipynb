{
 "cells": [
  {
   "cell_type": "markdown",
   "id": "33c0e315",
   "metadata": {},
   "source": [
    "         Practical Assignment_15 Solutions"
   ]
  },
  {
   "cell_type": "markdown",
   "id": "890cca8e",
   "metadata": {},
   "source": [
    "Objective: - Neural Style Transfer\n",
    "\n",
    "The idea of this project is to make art by using one image and then transferring\n",
    "the style of that image to the target image.\n",
    "\n",
    "Dataset Link: -\n",
    "\n",
    "Use anyone you like.\n",
    "\n",
    "Task: - \n",
    "\n",
    "Create a Web Application using FASTAPI. Use the end user should be\n",
    "able to upload an 2 images and get the output photo .\n",
    "\n",
    "Assignment Submission: - \n",
    "\n",
    "Only submit the GitHub Link. Create a proper\n",
    "Readme documentation."
   ]
  }
 ],
 "metadata": {
  "kernelspec": {
   "display_name": "Python 3 (ipykernel)",
   "language": "python",
   "name": "python3"
  },
  "language_info": {
   "codemirror_mode": {
    "name": "ipython",
    "version": 3
   },
   "file_extension": ".py",
   "mimetype": "text/x-python",
   "name": "python",
   "nbconvert_exporter": "python",
   "pygments_lexer": "ipython3",
   "version": "3.9.13"
  }
 },
 "nbformat": 4,
 "nbformat_minor": 5
}
