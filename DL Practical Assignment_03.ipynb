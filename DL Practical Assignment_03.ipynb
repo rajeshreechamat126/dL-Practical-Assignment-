{
 "cells": [
  {
   "cell_type": "markdown",
   "id": "d8a9c7ab",
   "metadata": {},
   "source": [
    "     Practical Assignment_03 Solutions\n",
    "\n",
    "Objective: - Image Classification with Stanford Dogs Dataset\n",
    "\n",
    "The Stanford Dogs dataset contains images of 120 breeds of dogs from around\n",
    "the world. This dataset has been built using images and annotation from\n",
    "ImageNet for the task of fine-grained image categorization. Contents of this\n",
    "dataset:\n",
    "\n",
    " Number of categories: 120\n",
    "\n",
    " Number of images: 20,580\n",
    "\n",
    " Annotations: Class labels, Bounding boxes\n",
    "\n",
    "Dataset Link: -\n",
    "Images Link :- http://vision.stanford.edu/aditya86/ImageNetDogs/images.tar\n",
    "\n",
    "Annotations Link :-\n",
    "http://vision.stanford.edu/aditya86/ImageNetDogs/annotation.tar\n",
    "\n",
    "Task: - \n",
    "\n",
    "Create a Web Application using Flask. Use the end user should be able\n",
    "to upload an image and get results with the prediction score.\n",
    "\n",
    "Deployment: -\n",
    "\n",
    "Any Free Platform(Try to look out for free options.)\n",
    "\n",
    "Assignment Submission: - \n",
    "\n",
    "Only submit the hosted app link.\n",
    "\n"
   ]
  },
  {
   "cell_type": "code",
   "execution_count": null,
   "id": "59d524e3",
   "metadata": {},
   "outputs": [],
   "source": []
  }
 ],
 "metadata": {
  "kernelspec": {
   "display_name": "Python 3 (ipykernel)",
   "language": "python",
   "name": "python3"
  },
  "language_info": {
   "codemirror_mode": {
    "name": "ipython",
    "version": 3
   },
   "file_extension": ".py",
   "mimetype": "text/x-python",
   "name": "python",
   "nbconvert_exporter": "python",
   "pygments_lexer": "ipython3",
   "version": "3.9.13"
  }
 },
 "nbformat": 4,
 "nbformat_minor": 5
}
