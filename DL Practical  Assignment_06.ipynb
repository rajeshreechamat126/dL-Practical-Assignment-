{
 "cells": [
  {
   "cell_type": "markdown",
   "id": "705959b1",
   "metadata": {},
   "source": [
    "      Practical Assignment_06 Solutions"
   ]
  },
  {
   "cell_type": "markdown",
   "id": "4c07c87f",
   "metadata": {},
   "source": [
    "Objective: - Image Classification with Tiny ImageNet\n",
    "\n",
    "Stanford prepared the Tiny ImageNet dataset for their CS231ncourse. The\n",
    "dataset spans 200 image classes with 500 training examples per class. The\n",
    "dataset also has 50 validation and 50 test examples per class. The images are\n",
    "down-sampled to 64x64 pixels vs. 256x256 for the original ImageNet. The full\n",
    "ImageNet dataset also has 1000 classes. Tiny ImageNet is large enough to be a\n",
    "challenging and realistic problem. But not so big as to require days of training\n",
    "before you see results.\n",
    "\n",
    "Dataset Link: -\n",
    "\n",
    "http://cs231n.stanford.edu/tiny-imagenet-200.zip\n",
    "\n",
    "Task: - \n",
    "\n",
    "Create a Web Application using Flask. Use the end user should be able\n",
    "to upload an image and get results with the prediction score. Use any CNN\n",
    "architecture launched after 2016.\n",
    "\n",
    "Deployment: - \n",
    "\n",
    "Any Free Platform(Try to look out for free options.)\n",
    "\n",
    "Assignment Submission: - \n",
    "\n",
    "Only submit the hosted app link."
   ]
  },
  {
   "cell_type": "code",
   "execution_count": null,
   "id": "45417507",
   "metadata": {},
   "outputs": [],
   "source": []
  }
 ],
 "metadata": {
  "kernelspec": {
   "display_name": "Python 3 (ipykernel)",
   "language": "python",
   "name": "python3"
  },
  "language_info": {
   "codemirror_mode": {
    "name": "ipython",
    "version": 3
   },
   "file_extension": ".py",
   "mimetype": "text/x-python",
   "name": "python",
   "nbconvert_exporter": "python",
   "pygments_lexer": "ipython3",
   "version": "3.9.13"
  }
 },
 "nbformat": 4,
 "nbformat_minor": 5
}
