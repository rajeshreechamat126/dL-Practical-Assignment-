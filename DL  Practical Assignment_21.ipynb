{
 "cells": [
  {
   "cell_type": "markdown",
   "id": "21c43bb2",
   "metadata": {},
   "source": [
    "        Practical Assignment_21 Solutions"
   ]
  },
  {
   "cell_type": "markdown",
   "id": "c9a96136",
   "metadata": {},
   "source": [
    "Objective: - Hand Gesture Recognition\n",
    "\n",
    "In this project, you are going to determine the gesture of the hand in real-time using a webcam.\n",
    "\n",
    "First, the background is separated from the hand region and then the fingersare segmented to predict hand gestures.\n",
    "\n",
    "With different hand gestures, you can perform different actions.\n",
    "\n",
    "Dataset Link: -\n",
    "\n",
    "Use anyone of your choice.\n",
    "\n",
    "Task: - \n",
    "\n",
    "Create a Desktop App for real time detection where the user can show hand gestures and identify them.\n",
    "\n",
    "Deployment: - \n",
    "\n",
    "Any Free Platform(Try to look out for free options.)\n",
    "\n",
    "Assignment Submission: - \n",
    "\n",
    "Only submit the hosted app link. OR GitHub Link"
   ]
  },
  {
   "cell_type": "code",
   "execution_count": null,
   "id": "7a916317",
   "metadata": {},
   "outputs": [],
   "source": []
  }
 ],
 "metadata": {
  "kernelspec": {
   "display_name": "Python 3 (ipykernel)",
   "language": "python",
   "name": "python3"
  },
  "language_info": {
   "codemirror_mode": {
    "name": "ipython",
    "version": 3
   },
   "file_extension": ".py",
   "mimetype": "text/x-python",
   "name": "python",
   "nbconvert_exporter": "python",
   "pygments_lexer": "ipython3",
   "version": "3.9.13"
  }
 },
 "nbformat": 4,
 "nbformat_minor": 5
}
