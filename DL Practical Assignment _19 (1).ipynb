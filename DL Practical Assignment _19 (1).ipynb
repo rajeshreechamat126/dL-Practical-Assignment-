{
 "cells": [
  {
   "cell_type": "markdown",
   "id": "7842d6c6",
   "metadata": {},
   "source": [
    "        Practical Assignment_19 Solutions"
   ]
  },
  {
   "cell_type": "markdown",
   "id": "bb8408be",
   "metadata": {},
   "source": [
    "Objective: - Human Counting\n",
    "\n",
    "A camera can be used to monitor and count the number of people present in\n",
    "the room, building, street, etc.\n",
    "\n",
    "First, you need to detect people and then we count their occurrence. It is\n",
    "useful to control the crowd.\n",
    "\n",
    "Dataset Link: -\n",
    "\n",
    "Use anyone of your choice.\n",
    "\n",
    "Task: - \n",
    "\n",
    "Create a Web Application using FASTAPI. Use the end user should be\n",
    "able to upload an image or video and get results with the count of persons.\n",
    "\n",
    "Deployment: - \n",
    "\n",
    "Any Free Platform(Try to look out for free options.)\n",
    "\n",
    "Assignment Submission: - \n",
    "\n",
    "Only submit the hosted app link. OR GitHub Link"
   ]
  }
 ],
 "metadata": {
  "kernelspec": {
   "display_name": "Python 3 (ipykernel)",
   "language": "python",
   "name": "python3"
  },
  "language_info": {
   "codemirror_mode": {
    "name": "ipython",
    "version": 3
   },
   "file_extension": ".py",
   "mimetype": "text/x-python",
   "name": "python",
   "nbconvert_exporter": "python",
   "pygments_lexer": "ipython3",
   "version": "3.9.13"
  }
 },
 "nbformat": 4,
 "nbformat_minor": 5
}
