{
 "cells": [
  {
   "cell_type": "markdown",
   "id": "ca557003",
   "metadata": {},
   "source": [
    "          Practical Assignment_09 Solutions"
   ]
  },
  {
   "cell_type": "markdown",
   "id": "d53789a3",
   "metadata": {},
   "source": [
    "Objective: - Object Detection with MSCOCO\n",
    "\n",
    "Microsoft is in this game also with their Common Objects in Context (COCO)\n",
    "dataset. Containing ~200K images, it’s relatively small but what makes it stand\n",
    "out are its challenges that come associated with the additional features it\n",
    "provides for each image.\n",
    "\n",
    "COCO challenges are also held annually. But each year’s challenge is slightly\n",
    "different. This year the challenge has four tracks:\n",
    "\n",
    "1. Object segmentation\n",
    "2. Panoptic segmentation\n",
    "3. Keypoint detection\n",
    "4. DensePose task\n",
    "\n",
    "Dataset Link: - \n",
    "\n",
    "Dataset is pretty big. SO we do not want to train it completely.\n",
    "\n",
    "So please extract any 10 classes images and annotations that you like. Then\n",
    "train it.\n",
    "\n",
    "Link :- https://cocodataset.org/#download\n",
    "\n",
    "Task: - \n",
    "\n",
    "Create a Web Application using Flask. Use the end user should be able\n",
    "to upload an image and get results with the prediction score. Use any CNN\n",
    "architecture launched after 2017.\n",
    "\n",
    "Deployment: - \n",
    "\n",
    "Any Free Platform(Try to look out for free options.)\n",
    "\n",
    "Assignment Submission: - \n",
    "\n",
    "Only submit the hosted app link. OR GitHub Link"
   ]
  }
 ],
 "metadata": {
  "kernelspec": {
   "display_name": "Python 3 (ipykernel)",
   "language": "python",
   "name": "python3"
  },
  "language_info": {
   "codemirror_mode": {
    "name": "ipython",
    "version": 3
   },
   "file_extension": ".py",
   "mimetype": "text/x-python",
   "name": "python",
   "nbconvert_exporter": "python",
   "pygments_lexer": "ipython3",
   "version": "3.9.13"
  }
 },
 "nbformat": 4,
 "nbformat_minor": 5
}
