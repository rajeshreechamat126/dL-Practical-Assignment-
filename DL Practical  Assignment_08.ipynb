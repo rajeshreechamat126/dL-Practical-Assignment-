{
 "cells": [
  {
   "cell_type": "markdown",
   "id": "ad9cab8d",
   "metadata": {},
   "source": [
    "            Practical Assignmenet_08 Solutions"
   ]
  },
  {
   "cell_type": "markdown",
   "id": "541d5b23",
   "metadata": {},
   "source": [
    "Objective: - Object Detection with OpenImages\n",
    "\n",
    "Open Images is a new dataset first released in 2016 that contains ~9 million\n",
    "images – which is fewer than ImageNet. What makes it stand out is that these\n",
    "images are mostly of complex scenes that span thousands of classes of objects.\n",
    "Moreover, ~2 million of these images are hand-annotated with bounding boxes\n",
    "making Open Images by far the largest existing dataset with object location\n",
    "annotations. In this subset of images, there are ~15.4 million bounding boxes\n",
    "of 600 classes of object.\n",
    "\n",
    "Dataset Link: - \n",
    "\n",
    "Dataset is pretty big. SO we do not want to train it completely.\n",
    "So please extract any 10 classes images and annotations that you like. Then\n",
    "train it.\n",
    "\n",
    "Link :- \n",
    "\n",
    "https://github.com/cvdfoundation/open-images-dataset\n",
    "\n",
    "Task: - \n",
    "\n",
    "Create a Web Application using Flask. Use the end user should be able\n",
    "to upload an image and get results with the prediction score. Use any CNN\n",
    "architecture launched after 2017.\n",
    "\n",
    "Deployment: - \n",
    "\n",
    "Any Free Platform(Try to look out for free options.)\n",
    "\n",
    "Assignment Submission: - \n",
    "\n",
    "Only submit the hosted app link. OR GitHub Link"
   ]
  }
 ],
 "metadata": {
  "kernelspec": {
   "display_name": "Python 3 (ipykernel)",
   "language": "python",
   "name": "python3"
  },
  "language_info": {
   "codemirror_mode": {
    "name": "ipython",
    "version": 3
   },
   "file_extension": ".py",
   "mimetype": "text/x-python",
   "name": "python",
   "nbconvert_exporter": "python",
   "pygments_lexer": "ipython3",
   "version": "3.9.13"
  }
 },
 "nbformat": 4,
 "nbformat_minor": 5
}
