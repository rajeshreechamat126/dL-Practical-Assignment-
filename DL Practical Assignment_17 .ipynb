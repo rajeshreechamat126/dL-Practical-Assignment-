{
 "cells": [
  {
   "cell_type": "markdown",
   "id": "e69356d1",
   "metadata": {},
   "source": [
    "        Practical Assignment_17 Solutions"
   ]
  },
  {
   "cell_type": "markdown",
   "id": "03b0d13e",
   "metadata": {},
   "source": [
    "Objective: - Generate Human Faces with DCGAN\n",
    "\n",
    "Powerful techniques to generate images, audio, text, or videos that are\n",
    "indistinguishable from real-world data. The idea behind this project is to start\n",
    "with random noise and apply DCGAN to generate real-like human faces that\n",
    "don’t even exist.\n",
    "\n",
    "Dataset Link: -\n",
    "\n",
    "Use any dataset of your choice\n",
    "\n",
    "Task: - \n",
    "\n",
    "Create a detailed Google Colab Notebook Result with proper documentation.\n",
    "\n",
    "Assignment Submission: - \n",
    "\n",
    "Only submit the hosted app link. OR GitHub Link"
   ]
  }
 ],
 "metadata": {
  "kernelspec": {
   "display_name": "Python 3 (ipykernel)",
   "language": "python",
   "name": "python3"
  },
  "language_info": {
   "codemirror_mode": {
    "name": "ipython",
    "version": 3
   },
   "file_extension": ".py",
   "mimetype": "text/x-python",
   "name": "python",
   "nbconvert_exporter": "python",
   "pygments_lexer": "ipython3",
   "version": "3.9.13"
  }
 },
 "nbformat": 4,
 "nbformat_minor": 5
}
