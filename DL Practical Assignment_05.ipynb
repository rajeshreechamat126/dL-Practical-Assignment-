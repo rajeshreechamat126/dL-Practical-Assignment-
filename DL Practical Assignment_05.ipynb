{
 "cells": [
  {
   "cell_type": "markdown",
   "id": "c3439e25",
   "metadata": {},
   "source": [
    "        Practical Asignment_05 Solutions"
   ]
  },
  {
   "cell_type": "markdown",
   "id": "cde70afc",
   "metadata": {},
   "source": [
    "Objective: - Image Classification with Indoor Scenes Images\n",
    "\n",
    "Created by Intel for an image classification contest, this expansive image\n",
    "dataset contains approximately 25,000 images. Furthermore, the images are\n",
    "divided into the following categories: buildings, forest, glacier, mountain, sea,\n",
    "and street. The dataset has been divided into folders for training, testing, and\n",
    "prediction. The training folder includes around 14,000 images and the testing\n",
    "folder has around 3,000 images. Finally, the prediction folder includes around\n",
    "7,000 images.\n",
    "\n",
    "Dataset Link: -\n",
    "\n",
    "https://www.kaggle.com/puneet6060/intel-image-classification/version/2\n",
    "\n",
    "Task: - \n",
    "\n",
    "Create a Web Application using Flask. Use the end user should be able\n",
    "to upload an image and get results with the prediction score. Use any CNN\n",
    "architecture launched after 2015.\n",
    "\n",
    "Deployment: - \n",
    "\n",
    "Any Free Platform(Try to look out for free options.)\n",
    "\n",
    "Assignment Submission: - \n",
    "\n",
    "Only submit the hosted app link."
   ]
  },
  {
   "cell_type": "code",
   "execution_count": null,
   "id": "74584bb5",
   "metadata": {},
   "outputs": [],
   "source": []
  }
 ],
 "metadata": {
  "kernelspec": {
   "display_name": "Python 3 (ipykernel)",
   "language": "python",
   "name": "python3"
  },
  "language_info": {
   "codemirror_mode": {
    "name": "ipython",
    "version": 3
   },
   "file_extension": ".py",
   "mimetype": "text/x-python",
   "name": "python",
   "nbconvert_exporter": "python",
   "pygments_lexer": "ipython3",
   "version": "3.9.13"
  }
 },
 "nbformat": 4,
 "nbformat_minor": 5
}
