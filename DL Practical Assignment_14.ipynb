{
 "cells": [
  {
   "cell_type": "markdown",
   "id": "4c32934b",
   "metadata": {},
   "source": [
    "            Practical Assignment_14 Solutions"
   ]
  },
  {
   "cell_type": "markdown",
   "id": "ecfb2da0",
   "metadata": {},
   "source": [
    "Objective: - Coloring old Black&amp;White photos\n",
    "\n",
    "Automated image colorization of B&amp;W images has been a hot topic of\n",
    "exploration in the field of computer vision.\n",
    "\n",
    "Dataset Link: -\n",
    "\n",
    "Use anyone of your choice.\n",
    "\n",
    "Task: - \n",
    "\n",
    "Create a Web Application using FASTAPI. Use the end user should be\n",
    "able to upload an B&amp;W image and get color photos .\n",
    "\n",
    "Assignment Submission: - Only submit the GitHub Link. Create a proper\n",
    "Readme documentation."
   ]
  }
 ],
 "metadata": {
  "kernelspec": {
   "display_name": "Python 3 (ipykernel)",
   "language": "python",
   "name": "python3"
  },
  "language_info": {
   "codemirror_mode": {
    "name": "ipython",
    "version": 3
   },
   "file_extension": ".py",
   "mimetype": "text/x-python",
   "name": "python",
   "nbconvert_exporter": "python",
   "pygments_lexer": "ipython3",
   "version": "3.9.13"
  }
 },
 "nbformat": 4,
 "nbformat_minor": 5
}
