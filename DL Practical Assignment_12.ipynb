{
 "cells": [
  {
   "cell_type": "markdown",
   "id": "32f73133",
   "metadata": {},
   "source": [
    "          Practical Assignment_12 Solutions          "
   ]
  },
  {
   "cell_type": "markdown",
   "id": "04701c9b",
   "metadata": {},
   "source": [
    "Objective: - Human Face Detection System\n",
    "\n",
    "The face detection took a major leap with deep learning techniques. We can\n",
    "build models with high accuracy in detecting the bounding boxes of the human\n",
    "face. This project will get you started with object detection and you will learn\n",
    "how to detect any object in an image.\n",
    "\n",
    "Face recognition technology is a subset of Object Detection that focuses on\n",
    "observing the instance of semantic objects. It is designed to track and visualize\n",
    "human faces within digital images.\n",
    "\n",
    "Dataset Link: -\n",
    "\n",
    "Lot of them are available use any one of your choice.\n",
    "\n",
    "Task: - \n",
    "\n",
    "Create a Web Application using FASTAPI. Use the end user should be\n",
    "able to upload an image and get results with the prediction face and bounding\n",
    "box coordinates. Use any 3 different algorithms. The end user should have the\n",
    "choice to select the algorithm options via a dropdown in the webpage.\n",
    "\n",
    "Deployment: - \n",
    "\n",
    "Any Free Platform (Try to look out for free options.)\n",
    "\n",
    "Assignment Submission: - \n",
    "\n",
    "Only submit the hosted app link. OR GitHub Link"
   ]
  }
 ],
 "metadata": {
  "kernelspec": {
   "display_name": "Python 3 (ipykernel)",
   "language": "python",
   "name": "python3"
  },
  "language_info": {
   "codemirror_mode": {
    "name": "ipython",
    "version": 3
   },
   "file_extension": ".py",
   "mimetype": "text/x-python",
   "name": "python",
   "nbconvert_exporter": "python",
   "pygments_lexer": "ipython3",
   "version": "3.9.13"
  }
 },
 "nbformat": 4,
 "nbformat_minor": 5
}
