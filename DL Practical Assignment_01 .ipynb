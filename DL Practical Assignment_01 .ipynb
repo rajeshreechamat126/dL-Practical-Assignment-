{
 "cells": [
  {
   "cell_type": "markdown",
   "id": "e644ebce",
   "metadata": {},
   "source": [
    "    Practical Assignment_01 Solutions "
   ]
  },
  {
   "cell_type": "markdown",
   "id": "4eaa68cd",
   "metadata": {},
   "source": [
    "Objective:- Predict Next Sequence \n",
    "\n",
    "To start with deep learning, the very basic project that you can build is to predict the next digit in a sequence.\n"
   ]
  },
  {
   "cell_type": "markdown",
   "id": "297199a4",
   "metadata": {},
   "source": [
    "Dataset:\n",
    "  \n",
    "Create a sequence like a list of odd numbers and then build a model and train it to predict the next digit in the sequence.\n"
   ]
  },
  {
   "cell_type": "markdown",
   "id": "c636ff39",
   "metadata": {},
   "source": [
    "Task:\n",
    "\n",
    "A simple neural network with 2 layers would be sufficient to build the model.\n"
   ]
  },
  {
   "cell_type": "markdown",
   "id": "68ac7db4",
   "metadata": {},
   "source": [
    "Assignment Submission:\n",
    "\n",
    "Only submit the Google Colab/Github link.(Make the Link Public).\n"
   ]
  },
  {
   "cell_type": "code",
   "execution_count": null,
   "id": "01bb7f3c",
   "metadata": {},
   "outputs": [],
   "source": []
  }
 ],
 "metadata": {
  "kernelspec": {
   "display_name": "Python 3 (ipykernel)",
   "language": "python",
   "name": "python3"
  },
  "language_info": {
   "codemirror_mode": {
    "name": "ipython",
    "version": 3
   },
   "file_extension": ".py",
   "mimetype": "text/x-python",
   "name": "python",
   "nbconvert_exporter": "python",
   "pygments_lexer": "ipython3",
   "version": "3.9.13"
  }
 },
 "nbformat": 4,
 "nbformat_minor": 5
}
