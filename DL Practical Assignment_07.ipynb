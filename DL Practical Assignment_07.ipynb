{
 "cells": [
  {
   "cell_type": "markdown",
   "id": "24c91d97",
   "metadata": {},
   "source": [
    "            Practical Assignment_07 Solutions"
   ]
  },
  {
   "cell_type": "markdown",
   "id": "473eb36d",
   "metadata": {},
   "source": [
    "Objective: - Object Detection with Oxford-IIIT Pet Dataset\n",
    "\n",
    "Stanford with IIIT have created a 37 category pet dataset with roughly 200\n",
    "images for each class. The images have a large variations in scale, pose and\n",
    "lighting. All images have an associated ground truth annotation of breed, head\n",
    "ROI, and pixel level trimap segmentation.\n",
    "\n",
    "Dataset Link: -\n",
    "\n",
    "Dataset :- https://www.robots.ox.ac.uk/~vgg/data/pets/data/images.tar.gz\n",
    "\n",
    "Ground Truth :-\n",
    "\n",
    "https://www.robots.ox.ac.uk/~vgg/data/pets/data/annotations.tar.gz\n",
    "\n",
    "Task: - \n",
    "\n",
    "Create a Web Application using Flask. Use the end user should be able\n",
    "to upload an image and get results with the prediction score. Use any CNN\n",
    "architecture launched after 2017.\n",
    "\n",
    "Deployment: - \n",
    "\n",
    "Any Free Platform(Try to look out for free options.)\n",
    "\n",
    "Assignment Submission: - \n",
    "\n",
    "Only submit the hosted app link. OR GitHub Link"
   ]
  }
 ],
 "metadata": {
  "kernelspec": {
   "display_name": "Python 3 (ipykernel)",
   "language": "python",
   "name": "python3"
  },
  "language_info": {
   "codemirror_mode": {
    "name": "ipython",
    "version": 3
   },
   "file_extension": ".py",
   "mimetype": "text/x-python",
   "name": "python",
   "nbconvert_exporter": "python",
   "pygments_lexer": "ipython3",
   "version": "3.9.13"
  }
 },
 "nbformat": 4,
 "nbformat_minor": 5
}
