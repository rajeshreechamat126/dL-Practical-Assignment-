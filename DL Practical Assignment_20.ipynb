{
 "cells": [
  {
   "cell_type": "markdown",
   "id": "f8ab6455",
   "metadata": {},
   "source": [
    "             Practical Assignment_20 Solutions"
   ]
  },
  {
   "cell_type": "markdown",
   "id": "80d3eda1",
   "metadata": {},
   "source": [
    "Objective: - Blur the Face\n",
    "\n",
    "Blurring the face area of people from videos is done in all news channels and to\n",
    "hide the identity of a person.\n",
    "\n",
    "With computer vision, You can automatically detect the face region of the\n",
    "person and use it to blur the image.\n",
    "\n",
    "The project will be useful in blurring the faces of the people in the video.\n",
    "\n",
    "Dataset Link: -\n",
    "\n",
    "Use anyone of your choice.\n",
    "\n",
    "Task: - \n",
    "\n",
    "Create a Desktop App where the user can upload an video and the faces will be blurred.\n",
    "\n",
    "Deployment: - \n",
    "\n",
    "Any Free Platform(Try to look out for free options.)\n",
    "\n",
    "Assignment Submission: - \n",
    "\n",
    "Only submit the hosted app link. OR GitHub Link"
   ]
  },
  {
   "cell_type": "code",
   "execution_count": null,
   "id": "4af4e98b",
   "metadata": {},
   "outputs": [],
   "source": []
  }
 ],
 "metadata": {
  "kernelspec": {
   "display_name": "Python 3 (ipykernel)",
   "language": "python",
   "name": "python3"
  },
  "language_info": {
   "codemirror_mode": {
    "name": "ipython",
    "version": 3
   },
   "file_extension": ".py",
   "mimetype": "text/x-python",
   "name": "python",
   "nbconvert_exporter": "python",
   "pygments_lexer": "ipython3",
   "version": "3.9.13"
  }
 },
 "nbformat": 4,
 "nbformat_minor": 5
}
