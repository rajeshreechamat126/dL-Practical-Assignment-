{
 "cells": [
  {
   "cell_type": "markdown",
   "id": "c14cdf68",
   "metadata": {},
   "source": [
    "     practical Assignment_04 Solutions\n"
   ]
  },
  {
   "cell_type": "markdown",
   "id": "93eac667",
   "metadata": {},
   "source": [
    "Objective: - Image Classification with Indoor Scenes Images\n",
    "\n",
    "From MIT, this dataset contains over 15,000 images of indoor locations. The\n",
    "dataset was originally built to tackle the problem of indoor scene recognition.\n",
    "All images are in JPEG format and have been divided into 67 categories. The\n",
    "number of images per category vary. However, there are at least 100 images\n",
    "for each category.\n",
    "\n",
    "Dataset Link: -\n",
    "\n",
    "https://www.kaggle.com/itsahmad/indoor-scenes-cvpr-2019\n",
    "\n",
    "Task: - \n",
    "\n",
    "Create a Web Application using Flask. Use the end user should be able\n",
    "to upload an image and get results with the prediction score. Use any CNN\n",
    "architecture launched after 2014.\n",
    "\n",
    "Deployment: - \n",
    "\n",
    "Any Free Platform(Try to look out for free options.)\n",
    "\n",
    "Assignment Submission: - \n",
    "\n",
    "Only submit the hosted app link."
   ]
  },
  {
   "cell_type": "code",
   "execution_count": null,
   "id": "7b0876e5",
   "metadata": {},
   "outputs": [],
   "source": []
  }
 ],
 "metadata": {
  "kernelspec": {
   "display_name": "Python 3 (ipykernel)",
   "language": "python",
   "name": "python3"
  },
  "language_info": {
   "codemirror_mode": {
    "name": "ipython",
    "version": 3
   },
   "file_extension": ".py",
   "mimetype": "text/x-python",
   "name": "python",
   "nbconvert_exporter": "python",
   "pygments_lexer": "ipython3",
   "version": "3.9.13"
  }
 },
 "nbformat": 4,
 "nbformat_minor": 5
}
