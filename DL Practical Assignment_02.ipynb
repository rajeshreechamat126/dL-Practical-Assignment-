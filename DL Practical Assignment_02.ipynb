{
 "cells": [
  {
   "cell_type": "markdown",
   "id": "122d43e9",
   "metadata": {},
   "source": [
    "        Practical Assignment_01 Solutions \n",
    "        "
   ]
  },
  {
   "cell_type": "markdown",
   "id": "25748ebb",
   "metadata": {},
   "source": [
    "Objective:- Image Classification With CIFAR 100\n",
    "\n",
    "This dataset is just like the CIFAR-10, except it has 100 classes containing 600 images each. There are 500 training images and 100 testing images per class. The 100 classes in the CIFAR-100 are grouped into 20 superclasses. Each image comes with a \"fine\" label (the class to which it belongs) and a \"coarse\" label (the superclass to which it belongs). \n"
   ]
  },
  {
   "cell_type": "markdown",
   "id": "b5f464e4",
   "metadata": {},
   "source": [
    "Dataset Link:-\n",
    "\n",
    "https://www.cs.toronto.edu/~kriz/cifar-10-Python.tar.gz  The dataset is not direct images. Please decode it using your own techniques.\n"
   ]
  },
  {
   "cell_type": "markdown",
   "id": "3a645fcf",
   "metadata": {},
   "source": [
    "Task:\n",
    "\n",
    "Create a web Application using Flask. Use the end user should be able to upload an image and get results with the prediction score. \n"
   ]
  },
  {
   "cell_type": "markdown",
   "id": "1e7aa8eb",
   "metadata": {},
   "source": [
    "Deployment: \n",
    "\n",
    "Any Free platform(Try to look out for free options.)\n"
   ]
  },
  {
   "cell_type": "markdown",
   "id": "5b77ba54",
   "metadata": {},
   "source": [
    "Assignment Submission\n",
    "\n",
    "Only submit the hosted app link.\n"
   ]
  },
  {
   "cell_type": "code",
   "execution_count": null,
   "id": "492fb5b0",
   "metadata": {},
   "outputs": [],
   "source": []
  }
 ],
 "metadata": {
  "kernelspec": {
   "display_name": "Python 3 (ipykernel)",
   "language": "python",
   "name": "python3"
  },
  "language_info": {
   "codemirror_mode": {
    "name": "ipython",
    "version": 3
   },
   "file_extension": ".py",
   "mimetype": "text/x-python",
   "name": "python",
   "nbconvert_exporter": "python",
   "pygments_lexer": "ipython3",
   "version": "3.9.13"
  }
 },
 "nbformat": 4,
 "nbformat_minor": 5
}
