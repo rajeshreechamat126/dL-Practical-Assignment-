{
 "cells": [
  {
   "cell_type": "markdown",
   "id": "27478aef",
   "metadata": {},
   "source": [
    "           Practical Assignment_24 Solutions"
   ]
  },
  {
   "cell_type": "markdown",
   "id": "69a8c99b",
   "metadata": {},
   "source": [
    "Objective: - Object Tracking for any objects.\n",
    "\n",
    "Object tracking is the process of identifying where a particular object is present in the image.\n",
    "\n",
    "Library :- \n",
    "\n",
    "https://github.com/tryolabs/norfair\n",
    "\n",
    "Dataset Link: -\n",
    "\n",
    "Use anyone of your choice.\n",
    "\n",
    "Use any 2 object for Tracking.\n",
    "\n",
    "Task: - \n",
    "\n",
    "Create a Desktop App where the videos can be used and get the count of 2 objects in the video.\n",
    "\n",
    "Deployment: - \n",
    "\n",
    "Any Free Platform(Try to look out for free options.)\n",
    "\n",
    "Assignment Submission: - \n",
    "\n",
    "Only submit the hosted app link. OR GitHub Link"
   ]
  },
  {
   "cell_type": "code",
   "execution_count": null,
   "id": "5f32a185",
   "metadata": {},
   "outputs": [],
   "source": []
  }
 ],
 "metadata": {
  "kernelspec": {
   "display_name": "Python 3 (ipykernel)",
   "language": "python",
   "name": "python3"
  },
  "language_info": {
   "codemirror_mode": {
    "name": "ipython",
    "version": 3
   },
   "file_extension": ".py",
   "mimetype": "text/x-python",
   "name": "python",
   "nbconvert_exporter": "python",
   "pygments_lexer": "ipython3",
   "version": "3.9.13"
  }
 },
 "nbformat": 4,
 "nbformat_minor": 5
}
